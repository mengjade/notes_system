{
 "cells": [
  {
   "cell_type": "code",
   "execution_count": 2,
   "metadata": {
    "collapsed": true,
    "scrolled": false
   },
   "outputs": [],
   "source": [
    "import sqlite3\n",
    "import pandas as pd\n",
    "import numpy as np\n",
    "import math\n",
    "import xlwt\n",
    "con = sqlite3.connect('db.sqlite3')"
   ]
  },
  {
   "cell_type": "code",
   "execution_count": null,
   "metadata": {
    "collapsed": true,
    "scrolled": false
   },
   "outputs": [],
   "source": [
    "def add_notes(df, note_type,sub_cat,con):\n",
    "    data = df.values.tolist()\n",
    "    current_group = \"\"\n",
    "    group_change = False\n",
    "    title_ind = False\n",
    "    i = 0\n",
    "    while i < len(data):\n",
    "        row = data[i]\n",
    "\n",
    "        # get a new group, update group value \n",
    "        if isinstance(row[0],str):\n",
    "            current_group = row[0]\n",
    "            group_change = True\n",
    "            title_ind = True\n",
    "\n",
    "        # if there exists some content\n",
    "        if isinstance(row[1],str):\n",
    "            next_row = data[i+1]\n",
    "            info_title = row[1]\n",
    "            info_text = next_row[1]\n",
    "\n",
    "            if isinstance(next_row[2],str):\n",
    "                comment = next_row[2]\n",
    "            else:\n",
    "                comment = \"\"\n",
    "\n",
    "            con.execute(\"INSERT INTO notes_notes (note_type, sub_category, info_group, info_title, info_text, comment) \\\n",
    "          VALUES ( '\" + note_type + \"','\" + sub_cat + \"','\" +current_group + \"','\" + info_title + \"','\" + info_text + \"','\" + comment + \"')\")\n",
    "            con.commit()\n",
    "\n",
    "            i = i + 2\n",
    "        else:\n",
    "            i = i + 1"
   ]
  },
  {
   "cell_type": "code",
   "execution_count": 21,
   "metadata": {
    "collapsed": true
   },
   "outputs": [],
   "source": [
    "note_type = \"Python\"\n",
    "sub_cat = \"General Python\"\n",
    "df = pd.read_excel(open(\"Python Notes trans.xlsx\" ,'rb'), parse_cols = \"A:C\",\n",
    "                   sheetname='General Python',names=['sub_cat','content','comment'],header=None)\n",
    "add_notes(df, note_type,sub_cat,con)"
   ]
  },
  {
   "cell_type": "code",
   "execution_count": 41,
   "metadata": {
    "collapsed": true,
    "scrolled": true
   },
   "outputs": [],
   "source": [
    "note_type = \"Python\"\n",
    "sub_cat = \"Data Analysis\"\n",
    "df = pd.read_excel(open(\"Python Notes trans.xlsx\" ,'rb'), parse_cols = \"A:C\",\n",
    "                   sheetname='Data Analysis',names=['sub_cat','content','comment'],header=None)\n",
    "add_notes(df, note_type,sub_cat,con)"
   ]
  },
  {
   "cell_type": "code",
   "execution_count": 4,
   "metadata": {
    "collapsed": true
   },
   "outputs": [],
   "source": [
    "note_type = \"Python\"\n",
    "sub_cat = \"Plot\"\n",
    "df = pd.read_excel(open(\"Python Notes trans.xlsx\" ,'rb'), parse_cols = \"A:C\",\n",
    "                   sheetname='Plot',names=['sub_cat','content','comment'],header=None)\n",
    "add_notes(df, note_type,sub_cat,con)"
   ]
  },
  {
   "cell_type": "code",
   "execution_count": 5,
   "metadata": {
    "collapsed": true
   },
   "outputs": [],
   "source": [
    "note_type = \"Python\"\n",
    "sub_cat = \"Folium\"\n",
    "df = pd.read_excel(open(\"Python Notes trans.xlsx\" ,'rb'), parse_cols = \"A:C\",\n",
    "                   sheetname='Folium',names=['sub_cat','content','comment'],header=None)\n",
    "add_notes(df, note_type,sub_cat,con)"
   ]
  },
  {
   "cell_type": "code",
   "execution_count": 10,
   "metadata": {
    "collapsed": true
   },
   "outputs": [],
   "source": [
    "note_type = \"Python\"\n",
    "sub_cat = \"Bokeh\"\n",
    "df = pd.read_excel(open(\"Python Notes trans.xlsx\" ,'rb'), parse_cols = \"A:C\",\n",
    "                   sheetname='Bokeh',names=['sub_cat','content','comment'],header=None)\n",
    "add_notes(df, note_type,sub_cat,con)"
   ]
  },
  {
   "cell_type": "code",
   "execution_count": 8,
   "metadata": {
    "collapsed": true
   },
   "outputs": [],
   "source": [
    "note_type = \"Python\"\n",
    "sub_cat = \"Theme\"\n",
    "df = pd.read_excel(open(\"Python Notes trans.xlsx\" ,'rb'), parse_cols = \"A:B\",\n",
    "                   sheetname='Theme',names=['sub_cat','content'],header=None)\n",
    "df['comment']=\"\"\n",
    "add_notes(df, note_type,sub_cat,con)"
   ]
  },
  {
   "cell_type": "code",
   "execution_count": 3,
   "metadata": {
    "collapsed": true
   },
   "outputs": [],
   "source": [
    "note_type = \"Python\"\n",
    "sub_cat = \"Widget\"\n",
    "df = pd.read_excel(open(\"Python Notes trans.xlsx\" ,'rb'), parse_cols = \"A:C\",\n",
    "                   sheetname='Widget',names=['sub_cat','content','comment'],header=None)\n",
    "add_notes(df, note_type,sub_cat,con)"
   ]
  },
  {
   "cell_type": "code",
   "execution_count": 8,
   "metadata": {
    "collapsed": true
   },
   "outputs": [],
   "source": [
    "note_type = \"Python\"\n",
    "sub_cat = \"Django\"\n",
    "df = pd.read_excel(open(\"Python Notes trans.xlsx\" ,'rb'), parse_cols = \"A:C\",\n",
    "                   sheetname='Django',names=['sub_cat','content','comment'],header=None)\n",
    "add_notes(df, note_type,sub_cat,con)"
   ]
  },
  {
   "cell_type": "code",
   "execution_count": 31,
   "metadata": {
    "collapsed": true
   },
   "outputs": [],
   "source": [
    "note_type = \"Scala\"\n",
    "sub_cat = \"General Scala\"\n",
    "df = pd.read_excel(open(\"Scala Notes.xlsx\" ,'rb'), parse_cols = \"A:C\",\n",
    "                   sheetname='Data Analysis',names=['sub_cat','content','comment'],header=None)\n",
    "add_notes(df, note_type,sub_cat,con)"
   ]
  },
  {
   "cell_type": "code",
   "execution_count": 32,
   "metadata": {
    "collapsed": true
   },
   "outputs": [],
   "source": [
    "note_type = \"Scala\"\n",
    "sub_cat = \"Parallel Programming\"\n",
    "df = pd.read_excel(open(\"Scala Notes.xlsx\" ,'rb'), parse_cols = \"A:C\",\n",
    "                   sheetname='Parallel',names=['sub_cat','content','comment'],header=None)\n",
    "add_notes(df, note_type,sub_cat,con)"
   ]
  },
  {
   "cell_type": "code",
   "execution_count": 8,
   "metadata": {
    "collapsed": true
   },
   "outputs": [],
   "source": [
    "note_type = \"SAS\"\n",
    "sub_cat = \"General SAS\"\n",
    "df = pd.read_excel(open(\"SAS Notes.xlsx\" ,'rb'), parse_cols = \"A:C\",\n",
    "                   sheetname='Sheet1',names=['sub_cat','content','comment'],header=None)\n",
    "add_notes(df, note_type,sub_cat,con)"
   ]
  },
  {
   "cell_type": "code",
   "execution_count": 10,
   "metadata": {
    "collapsed": true
   },
   "outputs": [],
   "source": [
    "note_type = \"SQL\"\n",
    "sub_cat = \"General SQL\"\n",
    "df = pd.read_excel(open(\"SQL Notes.xlsx\" ,'rb'), parse_cols = \"A:B\",\n",
    "                   sheetname='Sheet1',names=['sub_cat','content'],header=None)\n",
    "df['comment']=\"\"\n",
    "add_notes(df, note_type,sub_cat,con)"
   ]
  },
  {
   "cell_type": "code",
   "execution_count": 11,
   "metadata": {
    "collapsed": true
   },
   "outputs": [],
   "source": [
    "note_type = \"Unix\"\n",
    "sub_cat = \"General Unix\"\n",
    "df = pd.read_excel(open(\"Unix Notes.xlsx\" ,'rb'), parse_cols = \"A:C\",\n",
    "                   sheetname='Sheet1',names=['sub_cat','content','comment'],header=None)\n",
    "add_notes(df, note_type,sub_cat,con)"
   ]
  },
  {
   "cell_type": "code",
   "execution_count": null,
   "metadata": {
    "collapsed": true
   },
   "outputs": [],
   "source": []
  },
  {
   "cell_type": "code",
   "execution_count": 33,
   "metadata": {
    "collapsed": true
   },
   "outputs": [],
   "source": [
    "con.close()"
   ]
  },
  {
   "cell_type": "code",
   "execution_count": null,
   "metadata": {
    "collapsed": true
   },
   "outputs": [],
   "source": []
  },
  {
   "cell_type": "code",
   "execution_count": null,
   "metadata": {
    "collapsed": true
   },
   "outputs": [],
   "source": []
  },
  {
   "cell_type": "code",
   "execution_count": 64,
   "metadata": {
    "collapsed": true
   },
   "outputs": [],
   "source": [
    "import sqlite3\n",
    "import pandas as pd\n",
    "import numpy as np\n",
    "import math\n",
    "import xlwt\n",
    "con = sqlite3.connect('db.sqlite3')"
   ]
  },
  {
   "cell_type": "code",
   "execution_count": 69,
   "metadata": {
    "collapsed": true
   },
   "outputs": [],
   "source": [
    "def add_notes(df,con):\n",
    "\n",
    "    data = df.values.tolist()\n",
    "    \n",
    "    i = 0\n",
    "    while i < len(data):\n",
    "        \n",
    "        row = data[i]\n",
    "\n",
    "        # get a new recipe\n",
    "        if isinstance(row[0],str):\n",
    "            cook_name = row[0]\n",
    "            cook_ing = row[2]\n",
    "            cook_cat = row[3]\n",
    "            \n",
    "            if isinstance(row[4],str):\n",
    "                tag = row[4]\n",
    "            else:\n",
    "                tag = \"\"\n",
    "            \n",
    "            if isinstance(row[5],str):\n",
    "                comment = row[5]\n",
    "            else:\n",
    "                comment = \"\"\n",
    "                \n",
    "            info_text = \"\"\n",
    "            j = 1\n",
    "\n",
    "            while isinstance(data[i+1][1],str):\n",
    "                i = i + 1\n",
    "                info_text = info_text + str(j) + \". \" + data[i][1] +\"\\n\"\n",
    "                j = j + 1\n",
    "                if i + 1>= len(data):\n",
    "                    break\n",
    "                \n",
    "            info_text = info_text[:-1]\n",
    "            i = i + 1\n",
    "            \n",
    "\n",
    "\n",
    "            con.execute(\"INSERT INTO food_food (cook_name, cook_ing, cook_cat, tag, comment, info_text) \\\n",
    "          VALUES ( '\" + cook_name + \"','\" + cook_ing + \"','\" +cook_cat + \"','\" + tag + \"','\" + comment + \"','\" + info_text + \"')\")\n",
    "            con.commit()\n",
    "                \n",
    "        else:\n",
    "            i = i + 1"
   ]
  },
  {
   "cell_type": "code",
   "execution_count": 70,
   "metadata": {
    "collapsed": true
   },
   "outputs": [],
   "source": [
    "df = pd.read_excel(open(\"食谱.xlsx\" ,'rb'), parse_cols = \"A:F\",\n",
    "                   sheetname='Hot',names=['name','info','ing','cat','tag','comment'],header=None)"
   ]
  },
  {
   "cell_type": "code",
   "execution_count": 71,
   "metadata": {},
   "outputs": [
    {
     "name": "stdout",
     "output_type": "stream",
     "text": [
      "0\n",
      "5\n",
      "12\n",
      "17\n",
      "22\n",
      "27\n",
      "33\n",
      "39\n",
      "47\n",
      "52\n",
      "58\n",
      "65\n",
      "70\n",
      "76\n",
      "83\n",
      "88\n",
      "92\n",
      "97\n",
      "102\n",
      "107\n",
      "115\n",
      "120\n",
      "125\n",
      "131\n",
      "135\n",
      "140\n",
      "145\n",
      "150\n",
      "154\n",
      "159\n",
      "164\n",
      "168\n",
      "173\n",
      "178\n",
      "183\n",
      "188\n",
      "191\n",
      "197\n",
      "200\n",
      "204\n",
      "207\n",
      "211\n",
      "216\n",
      "219\n",
      "222\n",
      "226\n",
      "231\n",
      "235\n",
      "241\n",
      "247\n",
      "253\n",
      "258\n",
      "263\n",
      "268\n",
      "272\n",
      "279\n",
      "285\n",
      "290\n",
      "296\n",
      "302\n",
      "308\n",
      "313\n",
      "318\n",
      "323\n",
      "329\n",
      "333\n",
      "340\n",
      "346\n",
      "351\n",
      "355\n",
      "362\n",
      "367\n",
      "375\n",
      "381\n",
      "386\n",
      "393\n",
      "397\n",
      "405\n",
      "409\n",
      "415\n",
      "421\n",
      "426\n",
      "432\n",
      "435\n",
      "442\n",
      "447\n",
      "456\n",
      "463\n",
      "467\n",
      "474\n",
      "479\n",
      "485\n",
      "491\n",
      "496\n",
      "502\n",
      "507\n",
      "512\n",
      "519\n",
      "526\n",
      "532\n",
      "536\n",
      "541\n",
      "546\n",
      "550\n",
      "555\n",
      "560\n",
      "565\n",
      "570\n",
      "576\n",
      "580\n"
     ]
    }
   ],
   "source": [
    "add_notes(df,con)"
   ]
  },
  {
   "cell_type": "code",
   "execution_count": null,
   "metadata": {
    "collapsed": true
   },
   "outputs": [],
   "source": []
  },
  {
   "cell_type": "code",
   "execution_count": null,
   "metadata": {
    "collapsed": true
   },
   "outputs": [],
   "source": []
  },
  {
   "cell_type": "code",
   "execution_count": null,
   "metadata": {
    "collapsed": true
   },
   "outputs": [],
   "source": []
  },
  {
   "cell_type": "code",
   "execution_count": null,
   "metadata": {
    "collapsed": true
   },
   "outputs": [],
   "source": []
  },
  {
   "cell_type": "code",
   "execution_count": null,
   "metadata": {
    "collapsed": true
   },
   "outputs": [],
   "source": []
  },
  {
   "cell_type": "code",
   "execution_count": null,
   "metadata": {
    "collapsed": true
   },
   "outputs": [],
   "source": []
  },
  {
   "cell_type": "code",
   "execution_count": 68,
   "metadata": {
    "collapsed": true
   },
   "outputs": [],
   "source": [
    "con.execute(\"DELETE FROM food_food\");\n",
    "con.commit()"
   ]
  },
  {
   "cell_type": "code",
   "execution_count": null,
   "metadata": {
    "collapsed": true
   },
   "outputs": [],
   "source": []
  },
  {
   "cell_type": "code",
   "execution_count": null,
   "metadata": {
    "collapsed": true
   },
   "outputs": [],
   "source": []
  },
  {
   "cell_type": "code",
   "execution_count": null,
   "metadata": {
    "collapsed": true
   },
   "outputs": [],
   "source": []
  },
  {
   "cell_type": "code",
   "execution_count": null,
   "metadata": {
    "collapsed": true
   },
   "outputs": [],
   "source": []
  },
  {
   "cell_type": "code",
   "execution_count": null,
   "metadata": {
    "collapsed": true
   },
   "outputs": [],
   "source": []
  },
  {
   "cell_type": "code",
   "execution_count": null,
   "metadata": {
    "collapsed": true
   },
   "outputs": [],
   "source": []
  },
  {
   "cell_type": "code",
   "execution_count": null,
   "metadata": {
    "collapsed": true
   },
   "outputs": [],
   "source": []
  },
  {
   "cell_type": "code",
   "execution_count": null,
   "metadata": {
    "collapsed": true
   },
   "outputs": [],
   "source": []
  },
  {
   "cell_type": "code",
   "execution_count": null,
   "metadata": {
    "collapsed": true
   },
   "outputs": [],
   "source": []
  },
  {
   "cell_type": "code",
   "execution_count": null,
   "metadata": {
    "collapsed": true
   },
   "outputs": [],
   "source": []
  },
  {
   "cell_type": "code",
   "execution_count": null,
   "metadata": {
    "collapsed": true
   },
   "outputs": [],
   "source": []
  },
  {
   "cell_type": "code",
   "execution_count": null,
   "metadata": {
    "collapsed": true
   },
   "outputs": [],
   "source": []
  },
  {
   "cell_type": "code",
   "execution_count": null,
   "metadata": {
    "collapsed": true
   },
   "outputs": [],
   "source": []
  },
  {
   "cell_type": "code",
   "execution_count": null,
   "metadata": {
    "collapsed": true
   },
   "outputs": [],
   "source": []
  },
  {
   "cell_type": "code",
   "execution_count": null,
   "metadata": {
    "collapsed": true
   },
   "outputs": [],
   "source": []
  },
  {
   "cell_type": "code",
   "execution_count": null,
   "metadata": {
    "collapsed": true
   },
   "outputs": [],
   "source": []
  }
 ],
 "metadata": {
  "kernelspec": {
   "display_name": "Python 3",
   "language": "python",
   "name": "python3"
  },
  "language_info": {
   "codemirror_mode": {
    "name": "ipython",
    "version": 3
   },
   "file_extension": ".py",
   "mimetype": "text/x-python",
   "name": "python",
   "nbconvert_exporter": "python",
   "pygments_lexer": "ipython3",
   "version": "3.5.2"
  }
 },
 "nbformat": 4,
 "nbformat_minor": 2
}
