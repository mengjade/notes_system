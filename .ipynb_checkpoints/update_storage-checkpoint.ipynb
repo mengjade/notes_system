{
 "cells": [
  {
   "cell_type": "code",
   "execution_count": 47,
   "metadata": {},
   "outputs": [],
   "source": [
    "import sqlite3\n",
    "import pandas as pd\n",
    "import numpy as np\n",
    "import math\n",
    "import xlwt\n",
    "con = sqlite3.connect('db.sqlite3')"
   ]
  },
  {
   "cell_type": "code",
   "execution_count": null,
   "metadata": {
    "collapsed": true
   },
   "outputs": [],
   "source": [
    "con.execute(\"DELETE FROM food_storage\");\n",
    "con.commit()"
   ]
  },
  {
   "cell_type": "code",
   "execution_count": 33,
   "metadata": {},
   "outputs": [],
   "source": [
    "df = pd.read_excel(open(\"/home/peiying/Dropbox/Huiyi_Peiying/Tracker_v2.0.xlsx\" ,'rb'), parse_cols = \"A:D\",\n",
    "                   sheetname='Food_Track',names=['cat','food_type','quant','unit'],header=None)\n",
    "df = df[1:]"
   ]
  },
  {
   "cell_type": "code",
   "execution_count": 34,
   "metadata": {
    "collapsed": true
   },
   "outputs": [],
   "source": [
    "df1 = pd.read_excel(open(\"/home/peiying/Dropbox/Huiyi_Peiying/Tracker_v2.0.xlsx\" ,'rb'), parse_cols = \"F:H\",\n",
    "                   sheetname='Food_Track',names=['cat','food_type','unit'],header=None)\n",
    "df1 = df1[1:]\n",
    "df1 = df1.dropna()"
   ]
  },
  {
   "cell_type": "code",
   "execution_count": 36,
   "metadata": {},
   "outputs": [],
   "source": [
    "df = pd.concat([df,df1])"
   ]
  },
  {
   "cell_type": "code",
   "execution_count": 37,
   "metadata": {},
   "outputs": [],
   "source": [
    "def add_notes(df,con):\n",
    "\n",
    "    data = df.values.tolist()\n",
    "    \n",
    "    i = 0\n",
    "    for row in data:\n",
    "        if np.isnan(row[2]):\n",
    "            con.execute(\"INSERT INTO food_storage (cat, food_type, unit) \\\n",
    "            VALUES ( '\" + row[0] + \"','\" + row[1] + \"','\" + row[3] + \"')\")        \n",
    "        else:\n",
    "            con.execute(\"INSERT INTO food_storage (cat, food_type, quant, unit) \\\n",
    "            VALUES ( '\" + row[0] + \"','\" + row[1] + \"','\" +str(row[2]) + \"','\" + row[3] + \"')\")\n",
    "        con.commit()\n",
    "        "
   ]
  },
  {
   "cell_type": "code",
   "execution_count": 38,
   "metadata": {
    "collapsed": true
   },
   "outputs": [],
   "source": [
    "add_notes(df,con)"
   ]
  },
  {
   "cell_type": "code",
   "execution_count": null,
   "metadata": {
    "collapsed": true
   },
   "outputs": [],
   "source": [
    "# add planner "
   ]
  },
  {
   "cell_type": "code",
   "execution_count": 44,
   "metadata": {},
   "outputs": [],
   "source": [
    "def add_notes(df,con):\n",
    "\n",
    "    data = df.values.tolist()\n",
    "    \n",
    "    i = 0\n",
    "    for row in data:\n",
    "        con.execute(\"INSERT INTO food_planner (name, source, ing) \\\n",
    "        VALUES ( '\" + row[0] + \"','\" + row[1] + \"','\" + row[2] + \"')\")        \n",
    "        con.commit()\n",
    "        "
   ]
  },
  {
   "cell_type": "code",
   "execution_count": null,
   "metadata": {
    "collapsed": true
   },
   "outputs": [],
   "source": [
    "con.execute(\"DELETE FROM food_planners\");\n",
    "con.commit()"
   ]
  },
  {
   "cell_type": "code",
   "execution_count": 45,
   "metadata": {
    "collapsed": true
   },
   "outputs": [],
   "source": [
    "df = pd.read_excel(open(\"/home/peiying/Dropbox/Huiyi_Peiying/Tracker_v2.0.xlsx\" ,'rb'), parse_cols = \"M:O\",\n",
    "                   sheetname='Food_Track',names=['name','source','ing'],header=None)\n",
    "df = df.dropna()"
   ]
  },
  {
   "cell_type": "code",
   "execution_count": 46,
   "metadata": {
    "collapsed": true
   },
   "outputs": [],
   "source": [
    "add_notes(df,con)"
   ]
  },
  {
   "cell_type": "code",
   "execution_count": null,
   "metadata": {
    "collapsed": true
   },
   "outputs": [],
   "source": []
  },
  {
   "cell_type": "code",
   "execution_count": null,
   "metadata": {
    "collapsed": true
   },
   "outputs": [],
   "source": []
  },
  {
   "cell_type": "code",
   "execution_count": null,
   "metadata": {
    "collapsed": true
   },
   "outputs": [],
   "source": []
  },
  {
   "cell_type": "code",
   "execution_count": null,
   "metadata": {
    "collapsed": true
   },
   "outputs": [],
   "source": []
  },
  {
   "cell_type": "code",
   "execution_count": null,
   "metadata": {
    "collapsed": true
   },
   "outputs": [],
   "source": []
  },
  {
   "cell_type": "code",
   "execution_count": null,
   "metadata": {
    "collapsed": true
   },
   "outputs": [],
   "source": []
  }
 ],
 "metadata": {
  "kernelspec": {
   "display_name": "Python 3",
   "language": "python",
   "name": "python3"
  },
  "language_info": {
   "codemirror_mode": {
    "name": "ipython",
    "version": 3
   },
   "file_extension": ".py",
   "mimetype": "text/x-python",
   "name": "python",
   "nbconvert_exporter": "python",
   "pygments_lexer": "ipython3",
   "version": "3.5.2"
  }
 },
 "nbformat": 4,
 "nbformat_minor": 2
}
